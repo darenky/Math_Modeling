{
 "cells": [
  {
   "cell_type": "markdown",
   "id": "d98d67bd",
   "metadata": {},
   "source": [
    "# LAB1. REGRESSION MODELS "
   ]
  },
  {
   "cell_type": "markdown",
   "id": "cba90371",
   "metadata": {},
   "source": [
    "# LAB1. REGRESSION ANALYSIS"
   ]
  },
  {
   "cell_type": "code",
   "execution_count": 19,
   "id": "6ecc12d9",
   "metadata": {},
   "outputs": [],
   "source": [
    "import numpy as np \n",
    "import pandas as pd\n",
    "import matplotlib.pyplot as plt\n",
    "import seaborn as sns\n",
    "sns.set()\n",
    "\n",
    "from sklearn.linear_model import LinearRegression\n",
    "from sklearn.model_selection import train_test_split\n",
    "from sklearn.metrics import mean_squared_error, r2_score\n",
    "\n",
    "import warnings\n",
    "warnings.filterwarnings(\"ignore\", category=FutureWarning)"
   ]
  },
  {
   "cell_type": "markdown",
   "id": "d60aea65",
   "metadata": {},
   "source": [
    "## Load data"
   ]
  },
  {
   "cell_type": "markdown",
   "id": "22f8fb9f",
   "metadata": {},
   "source": [
    "Рівень забруднення атмосферного повітря за адресою:\n",
    "площа імені Івана Франка, 1\n",
    "у місті Ніжин"
   ]
  },
  {
   "cell_type": "markdown",
   "id": "498beba4",
   "metadata": {},
   "source": [
    "- Device_id - ID посту, де відбувається вимірювання. Для Києва таких постів 213 (архів Ecobot_16_11_2020.rar). Відповідно кожен пост має свій унікальний ID, який потрібно використовувати (він зазначений у назві відповідного .scv-фалу).\n",
    "\n",
    "- Phenomenon – тип забруднювача повітря (оксид вуглецю, діоксид вуглецю, PM2.5, PM10, тиск, температура тощо)\n",
    "\n",
    "- Value – значення відповідного забрудника \n",
    "\n",
    "- Logged_at – час, коли відбувся вимір\n"
   ]
  },
  {
   "cell_type": "code",
   "execution_count": 2,
   "id": "66b112d2",
   "metadata": {},
   "outputs": [
    {
     "data": {
      "text/html": [
       "<div>\n",
       "<style scoped>\n",
       "    .dataframe tbody tr th:only-of-type {\n",
       "        vertical-align: middle;\n",
       "    }\n",
       "\n",
       "    .dataframe tbody tr th {\n",
       "        vertical-align: top;\n",
       "    }\n",
       "\n",
       "    .dataframe thead th {\n",
       "        text-align: right;\n",
       "    }\n",
       "</style>\n",
       "<table border=\"1\" class=\"dataframe\">\n",
       "  <thead>\n",
       "    <tr style=\"text-align: right;\">\n",
       "      <th></th>\n",
       "      <th>device_id</th>\n",
       "      <th>phenomenon</th>\n",
       "      <th>value</th>\n",
       "      <th>logged_at</th>\n",
       "      <th>value_text</th>\n",
       "    </tr>\n",
       "  </thead>\n",
       "  <tbody>\n",
       "    <tr>\n",
       "      <th>0</th>\n",
       "      <td>22092</td>\n",
       "      <td>pm10</td>\n",
       "      <td>35.20</td>\n",
       "      <td>2022-10-28 14:29:38</td>\n",
       "      <td>NaN</td>\n",
       "    </tr>\n",
       "    <tr>\n",
       "      <th>1</th>\n",
       "      <td>22092</td>\n",
       "      <td>pm25</td>\n",
       "      <td>3.90</td>\n",
       "      <td>2022-10-28 14:29:38</td>\n",
       "      <td>NaN</td>\n",
       "    </tr>\n",
       "    <tr>\n",
       "      <th>2</th>\n",
       "      <td>22092</td>\n",
       "      <td>heca_temperature</td>\n",
       "      <td>37.53</td>\n",
       "      <td>2022-10-28 14:29:38</td>\n",
       "      <td>NaN</td>\n",
       "    </tr>\n",
       "    <tr>\n",
       "      <th>3</th>\n",
       "      <td>22092</td>\n",
       "      <td>heca_humidity</td>\n",
       "      <td>50.97</td>\n",
       "      <td>2022-10-28 14:29:38</td>\n",
       "      <td>NaN</td>\n",
       "    </tr>\n",
       "    <tr>\n",
       "      <th>4</th>\n",
       "      <td>22092</td>\n",
       "      <td>min_micro</td>\n",
       "      <td>1318.00</td>\n",
       "      <td>2022-10-28 14:29:38</td>\n",
       "      <td>NaN</td>\n",
       "    </tr>\n",
       "    <tr>\n",
       "      <th>...</th>\n",
       "      <td>...</td>\n",
       "      <td>...</td>\n",
       "      <td>...</td>\n",
       "      <td>...</td>\n",
       "      <td>...</td>\n",
       "    </tr>\n",
       "    <tr>\n",
       "      <th>879455</th>\n",
       "      <td>22092</td>\n",
       "      <td>pressure_pa</td>\n",
       "      <td>998263.20</td>\n",
       "      <td>2024-09-28 21:30:01</td>\n",
       "      <td>NaN</td>\n",
       "    </tr>\n",
       "    <tr>\n",
       "      <th>879456</th>\n",
       "      <td>22092</td>\n",
       "      <td>humidity</td>\n",
       "      <td>47.85</td>\n",
       "      <td>2024-09-28 21:30:01</td>\n",
       "      <td>NaN</td>\n",
       "    </tr>\n",
       "    <tr>\n",
       "      <th>879457</th>\n",
       "      <td>22092</td>\n",
       "      <td>min_micro</td>\n",
       "      <td>1298.00</td>\n",
       "      <td>2024-09-28 21:30:01</td>\n",
       "      <td>NaN</td>\n",
       "    </tr>\n",
       "    <tr>\n",
       "      <th>879458</th>\n",
       "      <td>22092</td>\n",
       "      <td>max_micro</td>\n",
       "      <td>22561.00</td>\n",
       "      <td>2024-09-28 21:30:01</td>\n",
       "      <td>NaN</td>\n",
       "    </tr>\n",
       "    <tr>\n",
       "      <th>879459</th>\n",
       "      <td>22092</td>\n",
       "      <td>signal</td>\n",
       "      <td>-66.00</td>\n",
       "      <td>2024-09-28 21:30:01</td>\n",
       "      <td>NaN</td>\n",
       "    </tr>\n",
       "  </tbody>\n",
       "</table>\n",
       "<p>879460 rows × 5 columns</p>\n",
       "</div>"
      ],
      "text/plain": [
       "        device_id        phenomenon      value            logged_at  \\\n",
       "0           22092              pm10      35.20  2022-10-28 14:29:38   \n",
       "1           22092              pm25       3.90  2022-10-28 14:29:38   \n",
       "2           22092  heca_temperature      37.53  2022-10-28 14:29:38   \n",
       "3           22092     heca_humidity      50.97  2022-10-28 14:29:38   \n",
       "4           22092         min_micro    1318.00  2022-10-28 14:29:38   \n",
       "...           ...               ...        ...                  ...   \n",
       "879455      22092       pressure_pa  998263.20  2024-09-28 21:30:01   \n",
       "879456      22092          humidity      47.85  2024-09-28 21:30:01   \n",
       "879457      22092         min_micro    1298.00  2024-09-28 21:30:01   \n",
       "879458      22092         max_micro   22561.00  2024-09-28 21:30:01   \n",
       "879459      22092            signal     -66.00  2024-09-28 21:30:01   \n",
       "\n",
       "        value_text  \n",
       "0              NaN  \n",
       "1              NaN  \n",
       "2              NaN  \n",
       "3              NaN  \n",
       "4              NaN  \n",
       "...            ...  \n",
       "879455         NaN  \n",
       "879456         NaN  \n",
       "879457         NaN  \n",
       "879458         NaN  \n",
       "879459         NaN  \n",
       "\n",
       "[879460 rows x 5 columns]"
      ]
     },
     "execution_count": 2,
     "metadata": {},
     "output_type": "execute_result"
    }
   ],
   "source": [
    "data = pd.read_csv('saveecobot_22092.csv')\n",
    "data"
   ]
  },
  {
   "cell_type": "markdown",
   "id": "fa89544f",
   "metadata": {},
   "source": [
    "## Data Preprocessing"
   ]
  },
  {
   "cell_type": "code",
   "execution_count": 3,
   "id": "5b1e044d",
   "metadata": {},
   "outputs": [
    {
     "data": {
      "text/html": [
       "<div>\n",
       "<style scoped>\n",
       "    .dataframe tbody tr th:only-of-type {\n",
       "        vertical-align: middle;\n",
       "    }\n",
       "\n",
       "    .dataframe tbody tr th {\n",
       "        vertical-align: top;\n",
       "    }\n",
       "\n",
       "    .dataframe thead th {\n",
       "        text-align: right;\n",
       "    }\n",
       "</style>\n",
       "<table border=\"1\" class=\"dataframe\">\n",
       "  <thead>\n",
       "    <tr style=\"text-align: right;\">\n",
       "      <th></th>\n",
       "      <th>device_id</th>\n",
       "      <th>phenomenon</th>\n",
       "      <th>value</th>\n",
       "      <th>logged_at</th>\n",
       "    </tr>\n",
       "  </thead>\n",
       "  <tbody>\n",
       "    <tr>\n",
       "      <th>0</th>\n",
       "      <td>22092</td>\n",
       "      <td>pm10</td>\n",
       "      <td>35.20</td>\n",
       "      <td>2022-10-28 14:29:38</td>\n",
       "    </tr>\n",
       "    <tr>\n",
       "      <th>1</th>\n",
       "      <td>22092</td>\n",
       "      <td>pm25</td>\n",
       "      <td>3.90</td>\n",
       "      <td>2022-10-28 14:29:38</td>\n",
       "    </tr>\n",
       "    <tr>\n",
       "      <th>2</th>\n",
       "      <td>22092</td>\n",
       "      <td>heca_temperature</td>\n",
       "      <td>37.53</td>\n",
       "      <td>2022-10-28 14:29:38</td>\n",
       "    </tr>\n",
       "    <tr>\n",
       "      <th>3</th>\n",
       "      <td>22092</td>\n",
       "      <td>heca_humidity</td>\n",
       "      <td>50.97</td>\n",
       "      <td>2022-10-28 14:29:38</td>\n",
       "    </tr>\n",
       "    <tr>\n",
       "      <th>4</th>\n",
       "      <td>22092</td>\n",
       "      <td>min_micro</td>\n",
       "      <td>1318.00</td>\n",
       "      <td>2022-10-28 14:29:38</td>\n",
       "    </tr>\n",
       "    <tr>\n",
       "      <th>...</th>\n",
       "      <td>...</td>\n",
       "      <td>...</td>\n",
       "      <td>...</td>\n",
       "      <td>...</td>\n",
       "    </tr>\n",
       "    <tr>\n",
       "      <th>879455</th>\n",
       "      <td>22092</td>\n",
       "      <td>pressure_pa</td>\n",
       "      <td>998263.20</td>\n",
       "      <td>2024-09-28 21:30:01</td>\n",
       "    </tr>\n",
       "    <tr>\n",
       "      <th>879456</th>\n",
       "      <td>22092</td>\n",
       "      <td>humidity</td>\n",
       "      <td>47.85</td>\n",
       "      <td>2024-09-28 21:30:01</td>\n",
       "    </tr>\n",
       "    <tr>\n",
       "      <th>879457</th>\n",
       "      <td>22092</td>\n",
       "      <td>min_micro</td>\n",
       "      <td>1298.00</td>\n",
       "      <td>2024-09-28 21:30:01</td>\n",
       "    </tr>\n",
       "    <tr>\n",
       "      <th>879458</th>\n",
       "      <td>22092</td>\n",
       "      <td>max_micro</td>\n",
       "      <td>22561.00</td>\n",
       "      <td>2024-09-28 21:30:01</td>\n",
       "    </tr>\n",
       "    <tr>\n",
       "      <th>879459</th>\n",
       "      <td>22092</td>\n",
       "      <td>signal</td>\n",
       "      <td>-66.00</td>\n",
       "      <td>2024-09-28 21:30:01</td>\n",
       "    </tr>\n",
       "  </tbody>\n",
       "</table>\n",
       "<p>879460 rows × 4 columns</p>\n",
       "</div>"
      ],
      "text/plain": [
       "        device_id        phenomenon      value            logged_at\n",
       "0           22092              pm10      35.20  2022-10-28 14:29:38\n",
       "1           22092              pm25       3.90  2022-10-28 14:29:38\n",
       "2           22092  heca_temperature      37.53  2022-10-28 14:29:38\n",
       "3           22092     heca_humidity      50.97  2022-10-28 14:29:38\n",
       "4           22092         min_micro    1318.00  2022-10-28 14:29:38\n",
       "...           ...               ...        ...                  ...\n",
       "879455      22092       pressure_pa  998263.20  2024-09-28 21:30:01\n",
       "879456      22092          humidity      47.85  2024-09-28 21:30:01\n",
       "879457      22092         min_micro    1298.00  2024-09-28 21:30:01\n",
       "879458      22092         max_micro   22561.00  2024-09-28 21:30:01\n",
       "879459      22092            signal     -66.00  2024-09-28 21:30:01\n",
       "\n",
       "[879460 rows x 4 columns]"
      ]
     },
     "execution_count": 3,
     "metadata": {},
     "output_type": "execute_result"
    }
   ],
   "source": [
    "data = data.drop(['value_text'], axis=1)\n",
    "data"
   ]
  },
  {
   "cell_type": "code",
   "execution_count": 4,
   "id": "7bd45b88",
   "metadata": {},
   "outputs": [
    {
     "data": {
      "text/plain": [
       "False"
      ]
     },
     "execution_count": 4,
     "metadata": {},
     "output_type": "execute_result"
    }
   ],
   "source": [
    "data.isnull().values.any()"
   ]
  },
  {
   "cell_type": "code",
   "execution_count": 5,
   "id": "facf585f",
   "metadata": {},
   "outputs": [],
   "source": [
    "data = data.pivot_table(\n",
    "    index=['device_id', 'logged_at'],\n",
    "    columns='phenomenon',\n",
    "    values='value', \n",
    "    aggfunc='first'\n",
    ")\n",
    "\n",
    "data.reset_index(inplace=True)"
   ]
  },
  {
   "cell_type": "code",
   "execution_count": 6,
   "id": "8c03057e",
   "metadata": {},
   "outputs": [
    {
     "data": {
      "text/html": [
       "<div>\n",
       "<style scoped>\n",
       "    .dataframe tbody tr th:only-of-type {\n",
       "        vertical-align: middle;\n",
       "    }\n",
       "\n",
       "    .dataframe tbody tr th {\n",
       "        vertical-align: top;\n",
       "    }\n",
       "\n",
       "    .dataframe thead th {\n",
       "        text-align: right;\n",
       "    }\n",
       "</style>\n",
       "<table border=\"1\" class=\"dataframe\">\n",
       "  <thead>\n",
       "    <tr style=\"text-align: right;\">\n",
       "      <th>phenomenon</th>\n",
       "      <th>device_id</th>\n",
       "      <th>logged_at</th>\n",
       "      <th>heca_humidity</th>\n",
       "      <th>heca_temperature</th>\n",
       "      <th>humidity</th>\n",
       "      <th>max_micro</th>\n",
       "      <th>min_micro</th>\n",
       "      <th>pm10</th>\n",
       "      <th>pm25</th>\n",
       "      <th>pressure_pa</th>\n",
       "      <th>signal</th>\n",
       "      <th>temperature</th>\n",
       "    </tr>\n",
       "  </thead>\n",
       "  <tbody>\n",
       "    <tr>\n",
       "      <th>0</th>\n",
       "      <td>22092</td>\n",
       "      <td>2022-10-28 14:29:38</td>\n",
       "      <td>50.97</td>\n",
       "      <td>37.53</td>\n",
       "      <td>NaN</td>\n",
       "      <td>595296.0</td>\n",
       "      <td>1318.0</td>\n",
       "      <td>35.2</td>\n",
       "      <td>3.9</td>\n",
       "      <td>NaN</td>\n",
       "      <td>-49.0</td>\n",
       "      <td>NaN</td>\n",
       "    </tr>\n",
       "    <tr>\n",
       "      <th>1</th>\n",
       "      <td>22092</td>\n",
       "      <td>2022-10-28 14:32:04</td>\n",
       "      <td>53.40</td>\n",
       "      <td>34.97</td>\n",
       "      <td>NaN</td>\n",
       "      <td>58259.0</td>\n",
       "      <td>1324.0</td>\n",
       "      <td>38.4</td>\n",
       "      <td>4.5</td>\n",
       "      <td>NaN</td>\n",
       "      <td>-53.0</td>\n",
       "      <td>NaN</td>\n",
       "    </tr>\n",
       "    <tr>\n",
       "      <th>2</th>\n",
       "      <td>22092</td>\n",
       "      <td>2022-10-28 14:34:48</td>\n",
       "      <td>55.26</td>\n",
       "      <td>32.80</td>\n",
       "      <td>NaN</td>\n",
       "      <td>58157.0</td>\n",
       "      <td>1310.0</td>\n",
       "      <td>30.6</td>\n",
       "      <td>4.2</td>\n",
       "      <td>NaN</td>\n",
       "      <td>-54.0</td>\n",
       "      <td>NaN</td>\n",
       "    </tr>\n",
       "    <tr>\n",
       "      <th>3</th>\n",
       "      <td>22092</td>\n",
       "      <td>2022-10-28 14:37:20</td>\n",
       "      <td>57.89</td>\n",
       "      <td>31.02</td>\n",
       "      <td>NaN</td>\n",
       "      <td>58415.0</td>\n",
       "      <td>1315.0</td>\n",
       "      <td>30.9</td>\n",
       "      <td>4.1</td>\n",
       "      <td>NaN</td>\n",
       "      <td>-55.0</td>\n",
       "      <td>NaN</td>\n",
       "    </tr>\n",
       "    <tr>\n",
       "      <th>4</th>\n",
       "      <td>22092</td>\n",
       "      <td>2022-10-28 14:39:58</td>\n",
       "      <td>60.06</td>\n",
       "      <td>29.83</td>\n",
       "      <td>NaN</td>\n",
       "      <td>58604.0</td>\n",
       "      <td>1324.0</td>\n",
       "      <td>32.5</td>\n",
       "      <td>4.3</td>\n",
       "      <td>NaN</td>\n",
       "      <td>-52.0</td>\n",
       "      <td>NaN</td>\n",
       "    </tr>\n",
       "    <tr>\n",
       "      <th>...</th>\n",
       "      <td>...</td>\n",
       "      <td>...</td>\n",
       "      <td>...</td>\n",
       "      <td>...</td>\n",
       "      <td>...</td>\n",
       "      <td>...</td>\n",
       "      <td>...</td>\n",
       "      <td>...</td>\n",
       "      <td>...</td>\n",
       "      <td>...</td>\n",
       "      <td>...</td>\n",
       "      <td>...</td>\n",
       "    </tr>\n",
       "    <tr>\n",
       "      <th>88516</th>\n",
       "      <td>22092</td>\n",
       "      <td>2024-09-28 21:20:18</td>\n",
       "      <td>51.14</td>\n",
       "      <td>22.85</td>\n",
       "      <td>47.70</td>\n",
       "      <td>22810.0</td>\n",
       "      <td>1297.0</td>\n",
       "      <td>17.6</td>\n",
       "      <td>2.4</td>\n",
       "      <td>998233.3</td>\n",
       "      <td>-64.0</td>\n",
       "      <td>21.03</td>\n",
       "    </tr>\n",
       "    <tr>\n",
       "      <th>88517</th>\n",
       "      <td>22092</td>\n",
       "      <td>2024-09-28 21:22:44</td>\n",
       "      <td>51.20</td>\n",
       "      <td>22.82</td>\n",
       "      <td>47.84</td>\n",
       "      <td>22614.0</td>\n",
       "      <td>1304.0</td>\n",
       "      <td>13.9</td>\n",
       "      <td>2.7</td>\n",
       "      <td>998240.8</td>\n",
       "      <td>-67.0</td>\n",
       "      <td>21.00</td>\n",
       "    </tr>\n",
       "    <tr>\n",
       "      <th>88518</th>\n",
       "      <td>22092</td>\n",
       "      <td>2024-09-28 21:25:10</td>\n",
       "      <td>51.23</td>\n",
       "      <td>22.79</td>\n",
       "      <td>47.79</td>\n",
       "      <td>22558.0</td>\n",
       "      <td>1307.0</td>\n",
       "      <td>10.0</td>\n",
       "      <td>2.2</td>\n",
       "      <td>998215.5</td>\n",
       "      <td>-67.0</td>\n",
       "      <td>20.97</td>\n",
       "    </tr>\n",
       "    <tr>\n",
       "      <th>88519</th>\n",
       "      <td>22092</td>\n",
       "      <td>2024-09-28 21:27:36</td>\n",
       "      <td>51.29</td>\n",
       "      <td>22.76</td>\n",
       "      <td>47.87</td>\n",
       "      <td>22565.0</td>\n",
       "      <td>1295.0</td>\n",
       "      <td>12.6</td>\n",
       "      <td>2.9</td>\n",
       "      <td>998171.6</td>\n",
       "      <td>-68.0</td>\n",
       "      <td>20.95</td>\n",
       "    </tr>\n",
       "    <tr>\n",
       "      <th>88520</th>\n",
       "      <td>22092</td>\n",
       "      <td>2024-09-28 21:30:01</td>\n",
       "      <td>51.33</td>\n",
       "      <td>22.74</td>\n",
       "      <td>47.85</td>\n",
       "      <td>22561.0</td>\n",
       "      <td>1298.0</td>\n",
       "      <td>10.8</td>\n",
       "      <td>2.9</td>\n",
       "      <td>998263.2</td>\n",
       "      <td>-66.0</td>\n",
       "      <td>20.94</td>\n",
       "    </tr>\n",
       "  </tbody>\n",
       "</table>\n",
       "<p>88521 rows × 12 columns</p>\n",
       "</div>"
      ],
      "text/plain": [
       "phenomenon  device_id            logged_at  heca_humidity  heca_temperature  \\\n",
       "0               22092  2022-10-28 14:29:38          50.97             37.53   \n",
       "1               22092  2022-10-28 14:32:04          53.40             34.97   \n",
       "2               22092  2022-10-28 14:34:48          55.26             32.80   \n",
       "3               22092  2022-10-28 14:37:20          57.89             31.02   \n",
       "4               22092  2022-10-28 14:39:58          60.06             29.83   \n",
       "...               ...                  ...            ...               ...   \n",
       "88516           22092  2024-09-28 21:20:18          51.14             22.85   \n",
       "88517           22092  2024-09-28 21:22:44          51.20             22.82   \n",
       "88518           22092  2024-09-28 21:25:10          51.23             22.79   \n",
       "88519           22092  2024-09-28 21:27:36          51.29             22.76   \n",
       "88520           22092  2024-09-28 21:30:01          51.33             22.74   \n",
       "\n",
       "phenomenon  humidity  max_micro  min_micro  pm10  pm25  pressure_pa  signal  \\\n",
       "0                NaN   595296.0     1318.0  35.2   3.9          NaN   -49.0   \n",
       "1                NaN    58259.0     1324.0  38.4   4.5          NaN   -53.0   \n",
       "2                NaN    58157.0     1310.0  30.6   4.2          NaN   -54.0   \n",
       "3                NaN    58415.0     1315.0  30.9   4.1          NaN   -55.0   \n",
       "4                NaN    58604.0     1324.0  32.5   4.3          NaN   -52.0   \n",
       "...              ...        ...        ...   ...   ...          ...     ...   \n",
       "88516          47.70    22810.0     1297.0  17.6   2.4     998233.3   -64.0   \n",
       "88517          47.84    22614.0     1304.0  13.9   2.7     998240.8   -67.0   \n",
       "88518          47.79    22558.0     1307.0  10.0   2.2     998215.5   -67.0   \n",
       "88519          47.87    22565.0     1295.0  12.6   2.9     998171.6   -68.0   \n",
       "88520          47.85    22561.0     1298.0  10.8   2.9     998263.2   -66.0   \n",
       "\n",
       "phenomenon  temperature  \n",
       "0                   NaN  \n",
       "1                   NaN  \n",
       "2                   NaN  \n",
       "3                   NaN  \n",
       "4                   NaN  \n",
       "...                 ...  \n",
       "88516             21.03  \n",
       "88517             21.00  \n",
       "88518             20.97  \n",
       "88519             20.95  \n",
       "88520             20.94  \n",
       "\n",
       "[88521 rows x 12 columns]"
      ]
     },
     "execution_count": 6,
     "metadata": {},
     "output_type": "execute_result"
    }
   ],
   "source": [
    "data"
   ]
  },
  {
   "cell_type": "code",
   "execution_count": 7,
   "id": "c748ff94",
   "metadata": {},
   "outputs": [
    {
     "data": {
      "text/plain": [
       "True"
      ]
     },
     "execution_count": 7,
     "metadata": {},
     "output_type": "execute_result"
    }
   ],
   "source": [
    "data.isnull().values.any() "
   ]
  },
  {
   "cell_type": "code",
   "execution_count": 8,
   "id": "3bd59eca",
   "metadata": {},
   "outputs": [],
   "source": [
    "data.dropna(inplace=True)"
   ]
  },
  {
   "cell_type": "code",
   "execution_count": 9,
   "id": "bc3c43f8",
   "metadata": {},
   "outputs": [
    {
     "data": {
      "text/plain": [
       "False"
      ]
     },
     "execution_count": 9,
     "metadata": {},
     "output_type": "execute_result"
    }
   ],
   "source": [
    "data.isnull().values.any() "
   ]
  },
  {
   "cell_type": "markdown",
   "id": "80171bc7",
   "metadata": {},
   "source": [
    "## Correlations"
   ]
  },
  {
   "cell_type": "markdown",
   "id": "4d1c7798",
   "metadata": {},
   "source": [
    "sth is weong"
   ]
  },
  {
   "attachments": {
    "image.png": {
     "image/png": "[encoded data removed]"
    }
   },
   "cell_type": "markdown",
   "id": "7d56288b",
   "metadata": {},
   "source": [
    "\n",
    "![image.png](attachment:image.png)"
   ]
  },
  {
   "attachments": {
    "image.png": {
     "image/png": "[encoded data removed]"
    }
   },
   "cell_type": "markdown",
   "id": "4bb9e104",
   "metadata": {},
   "source": [
    "![image.png](attachment:image.png)"
   ]
  },
  {
   "cell_type": "markdown",
   "id": "805c5175",
   "metadata": {},
   "source": [
    "## Splitting the dataset into training and test set"
   ]
  },
  {
   "cell_type": "code",
   "execution_count": 26,
   "id": "48b069d4",
   "metadata": {},
   "outputs": [
    {
     "name": "stdout",
     "output_type": "stream",
     "text": [
      "Залежність PM25 від PM10:\n",
      "RMSE: 3.495814075205514\n",
      "R²: 0.8890255511287304\n"
     ]
    },
    {
     "data": {
      "image/png": "[encoded data removed]",
      "text/plain": [
       "<Figure size 1000x600 with 1 Axes>"
      ]
     },
     "metadata": {},
     "output_type": "display_data"
    }
   ],
   "source": [
    "\n",
    "X = data[['pm10']]  # Ознака X\n",
    "Y = data['pm25']    # Ціль Y\n",
    "\n",
    "\n",
    "X_train, X_test, y_train, y_test = train_test_split(X, Y, test_size=0.3, random_state=0)\n",
    "\n",
    "model = LinearRegression()\n",
    "model.fit(X_train, y_train)\n",
    "\n",
    "y_pred = model.predict(X_test)\n",
    "\n",
    "rmse = np.sqrt(mean_squared_error(y_test, y_pred))  \n",
    "r2 = r2_score(y_test, y_pred)  \n",
    "\n",
    "print(\"Залежність PM25 від PM10:\")\n",
    "print(\"RMSE:\", rmse)\n",
    "print(\"R²:\", r2)\n",
    "\n",
    "\n",
    "plt.figure(figsize=(10, 6))\n",
    "\n",
    "sns.scatterplot(x=X_test.values.flatten(), y=y_test, color='red', s=10, label='Фактичні дані')\n",
    "\n",
    "sns.scatterplot(x=X_test.values.flatten(), y=y_pred, color='blue', s=10, label='Прогнозовані дані')\n",
    "\n",
    "sns.lineplot(x=X_test.values.flatten(), y=y_pred, color='yellow', label='Лінія регресії')\n",
    "\n",
    "plt.title('Залежність PM25 від PM10')\n",
    "plt.xlabel('PM10')\n",
    "plt.ylabel('PM25')\n",
    "plt.legend()\n",
    "plt.show()"
   ]
  },
  {
   "cell_type": "code",
   "execution_count": 14,
   "id": "38a6677f",
   "metadata": {},
   "outputs": [
    {
     "data": {
      "text/plain": [
       "phenomenon\n",
       "device_id             int64\n",
       "logged_at            object\n",
       "heca_humidity       float64\n",
       "heca_temperature    float64\n",
       "humidity            float64\n",
       "max_micro           float64\n",
       "min_micro           float64\n",
       "pm10                float64\n",
       "pm25                float64\n",
       "pressure_pa         float64\n",
       "signal              float64\n",
       "temperature         float64\n",
       "dtype: object"
      ]
     },
     "execution_count": 14,
     "metadata": {},
     "output_type": "execute_result"
    }
   ],
   "source": [
    "data.dtypes"
   ]
  },
  {
   "cell_type": "code",
   "execution_count": 15,
   "id": "ddfb5bec",
   "metadata": {},
   "outputs": [],
   "source": [
    "data['logged_at'] = pd.to_datetime(data['logged_at'])\n",
    "\n",
    "# Створення нових колонок для години, місяця та року\n",
    "data['hour'] = data['logged_at'].dt.hour\n",
    "data['month'] = data['logged_at'].dt.month\n",
    "data['year'] = data['logged_at'].dt.year"
   ]
  },
  {
   "cell_type": "code",
   "execution_count": 20,
   "id": "a144a4a9",
   "metadata": {},
   "outputs": [
    {
     "data": {
      "image/png": "[encoded data removed]",
      "text/plain": [
       "<Figure size 1000x600 with 1 Axes>"
      ]
     },
     "metadata": {},
     "output_type": "display_data"
    }
   ],
   "source": [
    "# графік залежності PM10 від години дня\n",
    "plt.figure(figsize=(10, 6))\n",
    "hourly_avg_pm10 = data.groupby('hour')['pm10'].mean().reset_index()  \n",
    "sns.lineplot(x='hour', y='pm10', data=hourly_avg_pm10, marker='o')\n",
    "\n",
    "\n",
    "plt.title('Залежність PM10 від години дня')\n",
    "plt.xlabel('Година дня')\n",
    "plt.ylabel('PM10')\n",
    "\n",
    "plt.show()"
   ]
  },
  {
   "cell_type": "code",
   "execution_count": 18,
   "id": "83d9fd88",
   "metadata": {},
   "outputs": [
    {
     "data": {
      "image/png": "[encoded data removed]",
      "text/plain": [
       "<Figure size 1000x600 with 1 Axes>"
      ]
     },
     "metadata": {},
     "output_type": "display_data"
    }
   ],
   "source": [
    "# графік залежності PM10 від місяця \n",
    "plt.figure(figsize=(10, 6))\n",
    "monthly_avg_pm10 = data.groupby('month')['pm10'].mean().reset_index()  # Групування за місяцем\n",
    "sns.barplot(x='month', y='pm10', data=monthly_avg_pm10, palette='Blues_d')\n",
    "\n",
    "plt.title('Залежність PM10 від місяця')\n",
    "plt.xlabel('Місяць')\n",
    "plt.ylabel('PM10')\n",
    "\n",
    "plt.show()"
   ]
  },
  {
   "cell_type": "code",
   "execution_count": null,
   "id": "ff114ae3",
   "metadata": {},
   "outputs": [],
   "source": []
  },
  {
   "cell_type": "code",
   "execution_count": null,
   "id": "8062ae19",
   "metadata": {},
   "outputs": [],
   "source": []
  }
 ],
 "metadata": {
  "kernelspec": {
   "display_name": "Python 3 (ipykernel)",
   "language": "python",
   "name": "python3"
  },
  "language_info": {
   "codemirror_mode": {
    "name": "ipython",
    "version": 3
   },
   "file_extension": ".py",
   "mimetype": "text/x-python",
   "name": "python",
   "nbconvert_exporter": "python",
   "pygments_lexer": "ipython3",
   "version": "3.11.5"
  }
 },
 "nbformat": 4,
 "nbformat_minor": 5
}
